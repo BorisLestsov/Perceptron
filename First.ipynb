{
 "cells": [
  {
   "cell_type": "code",
   "execution_count": 45,
   "metadata": {
    "collapsed": true
   },
   "outputs": [],
   "source": [
    "import numpy as np\n",
    "import matplotlib.pyplot as plt\n",
    "import random\n",
    "\n",
    "random.seed(None)"
   ]
  },
  {
   "cell_type": "code",
   "execution_count": 276,
   "metadata": {
    "collapsed": false
   },
   "outputs": [],
   "source": [
    "a, b, n = 0, 0.7, 50\n",
    "\n",
    "mu = 0\n",
    "sigma = 0.05\n",
    "\n",
    "#f = np.vectorize(lambda x: 0.3*(1 + np.math.sin(x)))\n",
    "f = np.vectorize(lambda x: x)\n",
    "rands = np.random.normal(mu, sigma, size=n)"
   ]
  },
  {
   "cell_type": "code",
   "execution_count": 260,
   "metadata": {
    "collapsed": true
   },
   "outputs": [],
   "source": [
    "class OneLayerPerceptron:\n",
    "    def __init__(self, alpha, hid_layer):\n",
    "        self.alpha = alpha\n",
    "        self.act_f = np.vectorize(lambda s: 1.0/(1+np.math.exp(-2.0*alpha*s)))\n",
    "        \n",
    "        self.w_hid = np.random.rand(hid_layer)\n",
    "        self.w_last = np.random.rand(hid_layer)\n",
    "    \n",
    "    def fit(self, test_inputs, test_outputs, epoches, step, inert):\n",
    "        self.epoches = epoches\n",
    "        self.delta_w_last = 0\n",
    "        self.delta_w_hid = 0\n",
    "        \n",
    "        for epoch in range(self.epoches):\n",
    "            err = 0.0\n",
    "            for t_inp, t_outp in zip(test_inputs, test_outputs):\n",
    "                outp = self.predict(t_inp)\n",
    "                err += np.linalg.norm(outp - t_outp)\n",
    "                \n",
    "                delta_last = -outp*(1 - outp)*(t_outp - outp)\n",
    "                delta_hid = self.outps_hid*(1 - self.outps_hid)*delta_last*self.w_last\n",
    "                \n",
    "                self.delta_w_last = inert*self.delta_w_last + (1 - inert)*step*delta_last*self.outps_hid\n",
    "                self.delta_w_hid  = inert*self.delta_w_hid + (1 - inert)*step*delta_hid*t_inp\n",
    "                \n",
    "                self.w_last += self.delta_w_last\n",
    "                self.w_hid += self.delta_w_hid            \n",
    "                \n",
    "        print \"Epoch {}, Error = {}\".format(epoch, err)\n",
    "    \n",
    "    def predict(self, x):\n",
    "        self.outps_hid = self.act_f(x*self.w_hid)\n",
    "        return (np.sum(self.outps_hid * self.w_last))"
   ]
  },
  {
   "cell_type": "code",
   "execution_count": 277,
   "metadata": {
    "collapsed": false
   },
   "outputs": [
    {
     "name": "stdout",
     "output_type": "stream",
     "text": [
      "Epoch 99, Error = 33.4441561185\n"
     ]
    },
    {
     "data": {
      "image/png": "[encoded data removed]",
      "text/plain": [
       "<matplotlib.figure.Figure at 0x7faa02719590>"
      ]
     },
     "metadata": {},
     "output_type": "display_data"
    }
   ],
   "source": [
    "test_inp  = np.linspace(a, b, n)\n",
    "test_outp = f(test_inp) + rands\n",
    "\n",
    "nn = OneLayerPerceptron(1, 50)\n",
    "nn.fit(test_inp, test_outp, 100, 1e-4, 0.5)\n",
    "\n",
    "x_bins = np.linspace(a, b, n)\n",
    "plt.plot(x_bins, f(x_bins), c='r')\n",
    "plt.scatter(x_bins, f(x_bins)+rands)\n",
    "plt.scatter(x_bins, np.array([nn.predict(x) for x in x_bins]), c='g')\n",
    "plt.show()"
   ]
  }
 ],
 "metadata": {
  "kernelspec": {
   "display_name": "Python [default]",
   "language": "python",
   "name": "python2"
  },
  "language_info": {
   "codemirror_mode": {
    "name": "ipython",
    "version": 2
   },
   "file_extension": ".py",
   "mimetype": "text/x-python",
   "name": "python",
   "nbconvert_exporter": "python",
   "pygments_lexer": "ipython2",
   "version": "2.7.12"
  }
 },
 "nbformat": 4,
 "nbformat_minor": 1
}
